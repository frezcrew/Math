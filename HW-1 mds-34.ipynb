{
 "cells": [
  {
   "cell_type": "markdown",
   "id": "9993269c",
   "metadata": {},
   "source": [
    "# Уровень 0\n",
    "\n",
    "Представим фильмы в виде бинарных векторов (numpy array) используя следующие признаки:\n",
    "\n",
    "[Комедия, Боевик, Исторический, Бред Питт, Бенедикт Камбербэтч, Квентин Тарантино]\n",
    "\n",
    "Игра в имитацию\n",
    "\n",
    "Ярость\n",
    "\n",
    "12 лет рабства\n",
    "\n",
    "Однажды в Голливуде"
   ]
  },
  {
   "cell_type": "code",
   "execution_count": 7,
   "id": "d504c739",
   "metadata": {},
   "outputs": [],
   "source": [
    "import pandas as pd\n",
    "import numpy as  np\n",
    "import sympy as sym\n",
    "import matplotlib.pyplot as plt"
   ]
  },
  {
   "cell_type": "code",
   "execution_count": 5,
   "id": "334fe2be",
   "metadata": {},
   "outputs": [],
   "source": [
    "film_1 = np.array([0,0,0,0,1,0])      # Игра в имитацию\n",
    "\n",
    "film_2 = np.array([0,1,0,1,0,0])      # Ярость\n",
    "\n",
    "film_3 = np.array([0,0,1,1,1,0])      # 12 лет рабства\n",
    "\n",
    "film_4 = np.array([1,0,0,1,0,1])      # Однажды в Голливуде"
   ]
  },
  {
   "cell_type": "markdown",
   "id": "6b613a34",
   "metadata": {},
   "source": [
    "## Задание 1\n",
    "Найти угол между векторами-фильмами \"Ярость\" и \"12 лет рабства\". Результатом будет являться косинусная мера, которую можно использовать для определения похожести векторов."
   ]
  },
  {
   "cell_type": "code",
   "execution_count": 39,
   "id": "5067385c",
   "metadata": {},
   "outputs": [
    {
     "name": "stdout",
     "output_type": "stream",
     "text": [
      "Норма вектора фильма \"Ярость\" = 1.4142135623730951\n",
      "Норма вектора фильма \"12 лет рабства\" = 1.7320508075688772\n"
     ]
    }
   ],
   "source": [
    "print(f'Норма вектора фильма \"Ярость\" = {np.linalg.norm(film_2)}')\n",
    "print(f'Норма вектора фильма \"12 лет рабства\" = {np.linalg.norm(film_3)}')"
   ]
  },
  {
   "cell_type": "code",
   "execution_count": 49,
   "id": "074eb109",
   "metadata": {},
   "outputs": [
    {
     "name": "stdout",
     "output_type": "stream",
     "text": [
      "Косинусная мера угла между вектороами фильмов \"Ярость\" и  \"12 лет рабства\" = 0.40824829046386296\n"
     ]
    }
   ],
   "source": [
    "print(f'Косинусная мера угла между вектороами фильмов \"Ярость\" и  \"12 лет рабства\" = {np.dot(film_2,film_3) /( np.linalg.norm(film_2) * np.linalg.norm(film_3))}')"
   ]
  },
  {
   "cell_type": "code",
   "execution_count": 72,
   "id": "8247b023",
   "metadata": {},
   "outputs": [
    {
     "name": "stdout",
     "output_type": "stream",
     "text": [
      " градусов между векторами 65.90515744788931\n"
     ]
    }
   ],
   "source": [
    "print (f' градусов между векторами {np.rad2deg(np.arccos(np.dot(film_2,film_3) /( np.linalg.norm(film_2) * np.linalg.norm(film_3))))}')"
   ]
  },
  {
   "cell_type": "markdown",
   "id": "2f86358f",
   "metadata": {},
   "source": [
    "# Уровень 1\n",
    "\n",
    "## Задание 1\n",
    "\n",
    "Вычислить с помощью Python значение первой производной для функции 8x(x + 3)**2 в точке x = 1"
   ]
  },
  {
   "cell_type": "code",
   "execution_count": 74,
   "id": "bef14141",
   "metadata": {},
   "outputs": [],
   "source": [
    "x = sym.Symbol('x')"
   ]
  },
  {
   "cell_type": "code",
   "execution_count": 79,
   "id": "a868624b",
   "metadata": {},
   "outputs": [
    {
     "data": {
      "text/latex": [
       "$\\displaystyle 8 x \\left(x + 3\\right)^{2}$"
      ],
      "text/plain": [
       "8*x*(x + 3)**2"
      ]
     },
     "execution_count": 79,
     "metadata": {},
     "output_type": "execute_result"
    }
   ],
   "source": [
    "8*x*(x + 3)**2"
   ]
  },
  {
   "cell_type": "code",
   "execution_count": 82,
   "id": "473bdf38",
   "metadata": {},
   "outputs": [
    {
     "data": {
      "text/latex": [
       "$\\displaystyle 8 x \\left(2 x + 6\\right) + 8 \\left(x + 3\\right)^{2}$"
      ],
      "text/plain": [
       "8*x*(2*x + 6) + 8*(x + 3)**2"
      ]
     },
     "execution_count": 82,
     "metadata": {},
     "output_type": "execute_result"
    }
   ],
   "source": [
    "res = sym.diff(8*x*(x + 3)**2)\n",
    "res"
   ]
  },
  {
   "cell_type": "code",
   "execution_count": 84,
   "id": "636fd132",
   "metadata": {},
   "outputs": [
    {
     "data": {
      "text/latex": [
       "$\\displaystyle 192$"
      ],
      "text/plain": [
       "192"
      ]
     },
     "execution_count": 84,
     "metadata": {},
     "output_type": "execute_result"
    }
   ],
   "source": [
    "res.subs(x,1)"
   ]
  },
  {
   "cell_type": "markdown",
   "id": "3bcf6bfa",
   "metadata": {},
   "source": [
    "## Задание 2\n",
    "Объединить векторы фильмов в матрицу, где каждый вектор является строкой матрицы. Умножьте вектор [1,2,3,4] на полученную матрицу"
   ]
  },
  {
   "cell_type": "code",
   "execution_count": 100,
   "id": "d6282bcb",
   "metadata": {},
   "outputs": [
    {
     "data": {
      "text/plain": [
       "[array([0, 0, 0, 0, 1, 0]),\n",
       " array([0, 1, 0, 1, 0, 0]),\n",
       " array([0, 0, 1, 1, 1, 0]),\n",
       " array([1, 0, 0, 1, 0, 1])]"
      ]
     },
     "execution_count": 100,
     "metadata": {},
     "output_type": "execute_result"
    }
   ],
   "source": [
    "# mat = [list(film_1), list(film_2), list(film_3), list(film_4)]\n",
    "#mat\n",
    "\n",
    "mat = [film_1, film_2, film_3, film_4]\n",
    "mat"
   ]
  },
  {
   "cell_type": "code",
   "execution_count": 104,
   "id": "47ba780c",
   "metadata": {},
   "outputs": [],
   "source": [
    "vec = np.array([1,2,3,4])"
   ]
  },
  {
   "cell_type": "code",
   "execution_count": 109,
   "id": "59285dae",
   "metadata": {},
   "outputs": [
    {
     "data": {
      "text/plain": [
       "array([4, 2, 3, 9, 4, 4])"
      ]
     },
     "execution_count": 109,
     "metadata": {},
     "output_type": "execute_result"
    }
   ],
   "source": [
    "result = np.dot(vec,mat)\n",
    "result"
   ]
  }
 ],
 "metadata": {
  "kernelspec": {
   "display_name": "Python 3 (ipykernel)",
   "language": "python",
   "name": "python3"
  },
  "language_info": {
   "codemirror_mode": {
    "name": "ipython",
    "version": 3
   },
   "file_extension": ".py",
   "mimetype": "text/x-python",
   "name": "python",
   "nbconvert_exporter": "python",
   "pygments_lexer": "ipython3",
   "version": "3.11.4"
  }
 },
 "nbformat": 4,
 "nbformat_minor": 5
}
